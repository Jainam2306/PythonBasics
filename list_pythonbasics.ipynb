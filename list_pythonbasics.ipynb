{
 "cells": [
  {
   "cell_type": "code",
   "execution_count": 2,
   "metadata": {},
   "outputs": [
    {
     "data": {
      "text/plain": [
       "('Jainam',\n",
       " 'Pray',\n",
       " 'Winnie',\n",
       " 'Divya',\n",
       " 'Imara',\n",
       " 'Ulan',\n",
       " 'Jerry',\n",
       " 'Adam',\n",
       " 'Riley',\n",
       " 'Ola',\n",
       " 'Saloni',\n",
       " 'Leuel',\n",
       " 'Toni',\n",
       " 'Temi',\n",
       " 'Sunint',\n",
       " 'Akash',\n",
       " 'Suga',\n",
       " 'Saman',\n",
       " 'Mehrnaaz',\n",
       " 'Muhammad',\n",
       " 'Ajinkya',\n",
       " 'Alka',\n",
       " 'Gaurav',\n",
       " 'Gilmara',\n",
       " 'Edward',\n",
       " 'Chloe',\n",
       " 'Dami')"
      ]
     },
     "execution_count": 2,
     "metadata": {},
     "output_type": "execute_result"
    }
   ],
   "source": [
    "#Q1 Create a tuple with all participant names in the JDA program\n",
    "npowerTuple = (\"Jainam\",\"Pray\",\"Winnie\",\"Divya\",\"Imara\",\"Ulan\",\"Jerry\",\"Adam\",\"Riley\",\"Ola\",\"Saloni\",\"Leuel\",\"Toni\",\"Temi\",\"Sunint\",\"Akash\",\"Suga\",\"Saman\",\"Mehrnaaz\",\"Muhammad\",\"Ajinkya\",\"Alka\",\"Gaurav\",\"Gilmara\",\"Edward\",\"Chloe\",\"Dami\")\n",
    "npowerTuple\n"
   ]
  },
  {
   "cell_type": "code",
   "execution_count": 4,
   "metadata": {},
   "outputs": [
    {
     "data": {
      "text/plain": [
       "['Jainam',\n",
       " 'Pray',\n",
       " 'Winnie',\n",
       " 'Divya',\n",
       " 'Imara',\n",
       " 'Ulan',\n",
       " 'Jerry',\n",
       " 'Adam',\n",
       " 'Riley',\n",
       " 'Ola',\n",
       " 'Saloni',\n",
       " 'Leuel',\n",
       " 'Toni',\n",
       " 'Temi',\n",
       " 'Sunint',\n",
       " 'Akash',\n",
       " 'Suga',\n",
       " 'Saman',\n",
       " 'Mehrnaaz',\n",
       " 'Muhammad',\n",
       " 'Ajinkya',\n",
       " 'Alka',\n",
       " 'Gaurav',\n",
       " 'Gilmara',\n",
       " 'Edward',\n",
       " 'Chloe',\n",
       " 'Dami']"
      ]
     },
     "execution_count": 4,
     "metadata": {},
     "output_type": "execute_result"
    }
   ],
   "source": [
    "#Q2 Convert the tuple into a list called pps_L\n",
    "pps_L = list(npowerTuple)\n",
    "pps_L"
   ]
  },
  {
   "cell_type": "code",
   "execution_count": 5,
   "metadata": {},
   "outputs": [
    {
     "data": {
      "text/plain": [
       "27"
      ]
     },
     "execution_count": 5,
     "metadata": {},
     "output_type": "execute_result"
    }
   ],
   "source": [
    "#Q3 What is the length of your list \n",
    "len(pps_L)"
   ]
  },
  {
   "cell_type": "code",
   "execution_count": 12,
   "metadata": {},
   "outputs": [
    {
     "name": "stdout",
     "output_type": "stream",
     "text": [
      "Divya Ulan Sunint Chloe Dami\n"
     ]
    }
   ],
   "source": [
    "#Q4 Find the values stored in indexes [3],[5],[14],[30],[38]\n",
    "#Not enough entries so using different values\n",
    "\n",
    "print(pps_L[3],pps_L[5],pps_L[14],pps_L[25],pps_L[26])\n"
   ]
  },
  {
   "cell_type": "code",
   "execution_count": 13,
   "metadata": {},
   "outputs": [
    {
     "name": "stdout",
     "output_type": "stream",
     "text": [
      "NO\n"
     ]
    }
   ],
   "source": [
    "#Q5 Check if \"Sarah\" is in the list\n",
    "if \"Sarah\" in pps_L :\n",
    "    print(\"Yes\")\n",
    "else :\n",
    "    print(\"NO\")"
   ]
  },
  {
   "cell_type": "code",
   "execution_count": 14,
   "metadata": {},
   "outputs": [
    {
     "data": {
      "text/plain": [
       "['Jainam',\n",
       " 'Pray',\n",
       " 'Winnie',\n",
       " 'Divya',\n",
       " 'Imara',\n",
       " 'Ulan',\n",
       " 'Jerry',\n",
       " 'Adam',\n",
       " 'Riley',\n",
       " 'Ola',\n",
       " 'Saloni',\n",
       " 'Leuel',\n",
       " 'Toni',\n",
       " 'Temi',\n",
       " 'Sunint',\n",
       " 'Akash',\n",
       " 'Suga',\n",
       " 'Saman',\n",
       " 'Mehrnaaz',\n",
       " 'Muhammad',\n",
       " 'Ajinkya',\n",
       " 'Alka',\n",
       " 'Gaurav',\n",
       " 'Gilmara',\n",
       " 'Edward',\n",
       " 'Chloe',\n",
       " 'Dami',\n",
       " 'Sarah']"
      ]
     },
     "execution_count": 14,
     "metadata": {},
     "output_type": "execute_result"
    }
   ],
   "source": [
    "#Q6 Add \"Sarah\" to your list\n",
    "pps_L.append(\"Sarah\")\n",
    "pps_L"
   ]
  },
  {
   "cell_type": "code",
   "execution_count": 15,
   "metadata": {},
   "outputs": [
    {
     "name": "stdout",
     "output_type": "stream",
     "text": [
      "No\n"
     ]
    }
   ],
   "source": [
    "#Q7 Check if \"Bashir\" is in the list\n",
    "if \"Bashir\" in pps_L :\n",
    "    print(\"Yes\")\n",
    "else :\n",
    "    print(\"No\")"
   ]
  },
  {
   "cell_type": "code",
   "execution_count": 16,
   "metadata": {},
   "outputs": [
    {
     "data": {
      "text/plain": [
       "['Jainam',\n",
       " 'Pray',\n",
       " 'Winnie',\n",
       " 'Divya',\n",
       " 'Imara',\n",
       " 'Ulan',\n",
       " 'Jerry',\n",
       " 'Adam',\n",
       " 'Riley',\n",
       " 'Ola',\n",
       " 'Saloni',\n",
       " 'Leuel',\n",
       " 'Toni',\n",
       " 'Temi',\n",
       " 'Sunint',\n",
       " 'Akash',\n",
       " 'Suga',\n",
       " 'Saman',\n",
       " 'Mehrnaaz',\n",
       " 'Muhammad',\n",
       " 'Ajinkya',\n",
       " 'Alka',\n",
       " 'Gaurav',\n",
       " 'Gilmara',\n",
       " 'Edward',\n",
       " 'Chloe',\n",
       " 'Dami',\n",
       " 'Sarah',\n",
       " 'Bashir']"
      ]
     },
     "execution_count": 16,
     "metadata": {},
     "output_type": "execute_result"
    }
   ],
   "source": [
    "#Q9 Add \"Bashir\" to your list\n",
    "pps_L.append(\"Bashir\")\n",
    "pps_L"
   ]
  },
  {
   "cell_type": "code",
   "execution_count": 17,
   "metadata": {},
   "outputs": [
    {
     "data": {
      "text/plain": [
       "27"
      ]
     },
     "execution_count": 17,
     "metadata": {},
     "output_type": "execute_result"
    }
   ],
   "source": [
    "#Q10 Find the index of the element \"Sarah\" in the list\n",
    "pps_L.index(\"Sarah\")"
   ]
  },
  {
   "cell_type": "code",
   "execution_count": 18,
   "metadata": {},
   "outputs": [
    {
     "data": {
      "text/plain": [
       "['Jainam',\n",
       " 'Pray',\n",
       " 'Winnie',\n",
       " 'Divya',\n",
       " 'Imara',\n",
       " 'Ulan',\n",
       " 'Jerry',\n",
       " 'Adam',\n",
       " 'Riley',\n",
       " 'Ola',\n",
       " 'Saloni',\n",
       " 'Leuel',\n",
       " 'Toni',\n",
       " 'Temi',\n",
       " 'Sunint',\n",
       " 'Akash',\n",
       " 'Suga',\n",
       " 'Saman',\n",
       " 'Mehrnaaz',\n",
       " 'Muhammad',\n",
       " 'Ajinkya',\n",
       " 'Alka',\n",
       " 'Gaurav',\n",
       " 'Gilmara',\n",
       " 'Edward',\n",
       " 'Chloe',\n",
       " 'Dami',\n",
       " 'Instructor',\n",
       " 'Bashir']"
      ]
     },
     "execution_count": 18,
     "metadata": {},
     "output_type": "execute_result"
    }
   ],
   "source": [
    "#Q11 Change the value of the index in Q10 from \"Sarah\" to \"Instructor\"\n",
    "pps_L[27] = \"Instructor\"\n",
    "pps_L"
   ]
  },
  {
   "cell_type": "code",
   "execution_count": 19,
   "metadata": {},
   "outputs": [
    {
     "data": {
      "text/plain": [
       "28"
      ]
     },
     "execution_count": 19,
     "metadata": {},
     "output_type": "execute_result"
    }
   ],
   "source": [
    "#Q12 Find the index of the element \"Bashir\" in the list\n",
    "pps_L.index(\"Bashir\")"
   ]
  },
  {
   "cell_type": "code",
   "execution_count": 20,
   "metadata": {},
   "outputs": [
    {
     "data": {
      "text/plain": [
       "['Jainam',\n",
       " 'Pray',\n",
       " 'Winnie',\n",
       " 'Divya',\n",
       " 'Imara',\n",
       " 'Ulan',\n",
       " 'Jerry',\n",
       " 'Adam',\n",
       " 'Riley',\n",
       " 'Ola',\n",
       " 'Saloni',\n",
       " 'Leuel',\n",
       " 'Toni',\n",
       " 'Temi',\n",
       " 'Sunint',\n",
       " 'Akash',\n",
       " 'Suga',\n",
       " 'Saman',\n",
       " 'Mehrnaaz',\n",
       " 'Muhammad',\n",
       " 'Ajinkya',\n",
       " 'Alka',\n",
       " 'Gaurav',\n",
       " 'Gilmara',\n",
       " 'Edward',\n",
       " 'Chloe',\n",
       " 'Dami',\n",
       " 'Instructor',\n",
       " 'Peer-Mentor']"
      ]
     },
     "execution_count": 20,
     "metadata": {},
     "output_type": "execute_result"
    }
   ],
   "source": [
    "#Q13 Change the value of the index in Q12 from \"Bashir\" to \"Peer-Mentor\"\n",
    "pps_L[28] = \"Peer-Mentor\"\n",
    "pps_L"
   ]
  },
  {
   "cell_type": "code",
   "execution_count": null,
   "metadata": {},
   "outputs": [],
   "source": []
  }
 ],
 "metadata": {
  "kernelspec": {
   "display_name": "Python 3",
   "language": "python",
   "name": "python3"
  },
  "language_info": {
   "codemirror_mode": {
    "name": "ipython",
    "version": 3
   },
   "file_extension": ".py",
   "mimetype": "text/x-python",
   "name": "python",
   "nbconvert_exporter": "python",
   "pygments_lexer": "ipython3",
   "version": "3.8.5"
  }
 },
 "nbformat": 4,
 "nbformat_minor": 4
}
